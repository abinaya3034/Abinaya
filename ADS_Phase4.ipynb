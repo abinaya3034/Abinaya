{
 "cells": [
  {
   "cell_type": "code",
   "execution_count": 66,
   "id": "cd8d3cb2",
   "metadata": {},
   "outputs": [],
   "source": [
    "import pandas as pd"
   ]
  },
  {
   "cell_type": "code",
   "execution_count": 67,
   "id": "15bbfcea",
   "metadata": {},
   "outputs": [],
   "source": [
    "df=pd.read_csv(r'Sales.csv')"
   ]
  },
  {
   "cell_type": "code",
   "execution_count": 68,
   "id": "adb57520",
   "metadata": {},
   "outputs": [
    {
     "name": "stdout",
     "output_type": "stream",
     "text": [
      "        TV  Radio  Newspaper  Sales\n",
      "0    230.1   37.8       69.2   22.1\n",
      "1     44.5   39.3       45.1   10.4\n",
      "2     17.2   45.9       69.3   12.0\n",
      "3    151.5   41.3       58.5   16.5\n",
      "4    180.8   10.8       58.4   17.9\n",
      "..     ...    ...        ...    ...\n",
      "195   38.2    3.7       13.8    7.6\n",
      "196   94.2    4.9        8.1   14.0\n",
      "197  177.0    9.3        6.4   14.8\n",
      "198  283.6   42.0       66.2   25.5\n",
      "199  232.1    8.6        8.7   18.4\n",
      "\n",
      "[200 rows x 4 columns]\n"
     ]
    }
   ],
   "source": [
    "print(df)"
   ]
  },
  {
   "cell_type": "markdown",
   "id": "37c68410",
   "metadata": {},
   "source": [
    "# adding features"
   ]
  },
  {
   "cell_type": "code",
   "execution_count": 69,
   "id": "20cf261b",
   "metadata": {},
   "outputs": [
    {
     "name": "stdout",
     "output_type": "stream",
     "text": [
      "        TV  Radio  Newspaper  Sales  Total_Spent\n",
      "0    230.1   37.8       69.2   22.1        337.1\n",
      "1     44.5   39.3       45.1   10.4        128.9\n",
      "2     17.2   45.9       69.3   12.0        132.4\n",
      "3    151.5   41.3       58.5   16.5        251.3\n",
      "4    180.8   10.8       58.4   17.9        250.0\n",
      "..     ...    ...        ...    ...          ...\n",
      "195   38.2    3.7       13.8    7.6         55.7\n",
      "196   94.2    4.9        8.1   14.0        107.2\n",
      "197  177.0    9.3        6.4   14.8        192.7\n",
      "198  283.6   42.0       66.2   25.5        391.8\n",
      "199  232.1    8.6        8.7   18.4        249.4\n",
      "\n",
      "[200 rows x 5 columns]\n"
     ]
    }
   ],
   "source": [
    "df['Total_Spent'] = df['TV'] + df['Radio'] + df['Newspaper']\n",
    "print(df)"
   ]
  },
  {
   "cell_type": "code",
   "execution_count": 70,
   "id": "18cc1ee9",
   "metadata": {},
   "outputs": [
    {
     "name": "stdout",
     "output_type": "stream",
     "text": [
      "        TV  Radio  Newspaper  Sales  Total_Spent  Previous_Sales\n",
      "0    230.1   37.8       69.2   22.1        337.1             NaN\n",
      "1     44.5   39.3       45.1   10.4        128.9            22.1\n",
      "2     17.2   45.9       69.3   12.0        132.4            10.4\n",
      "3    151.5   41.3       58.5   16.5        251.3            12.0\n",
      "4    180.8   10.8       58.4   17.9        250.0            16.5\n",
      "..     ...    ...        ...    ...          ...             ...\n",
      "195   38.2    3.7       13.8    7.6         55.7            17.3\n",
      "196   94.2    4.9        8.1   14.0        107.2             7.6\n",
      "197  177.0    9.3        6.4   14.8        192.7            14.0\n",
      "198  283.6   42.0       66.2   25.5        391.8            14.8\n",
      "199  232.1    8.6        8.7   18.4        249.4            25.5\n",
      "\n",
      "[200 rows x 6 columns]\n"
     ]
    }
   ],
   "source": [
    "df['Previous_Sales'] = df['Sales'].shift(1)  # Lagged sales\n",
    "print(df)\n"
   ]
  },
  {
   "cell_type": "code",
   "execution_count": 71,
   "id": "2dbf5ba0",
   "metadata": {},
   "outputs": [
    {
     "name": "stdout",
     "output_type": "stream",
     "text": [
      "        TV  Radio  Newspaper  Sales  Total_Spent  Previous_Sales  \\\n",
      "0    230.1   37.8       69.2   22.1        337.1             NaN   \n",
      "1     44.5   39.3       45.1   10.4        128.9            22.1   \n",
      "2     17.2   45.9       69.3   12.0        132.4            10.4   \n",
      "3    151.5   41.3       58.5   16.5        251.3            12.0   \n",
      "4    180.8   10.8       58.4   17.9        250.0            16.5   \n",
      "..     ...    ...        ...    ...          ...             ...   \n",
      "195   38.2    3.7       13.8    7.6         55.7            17.3   \n",
      "196   94.2    4.9        8.1   14.0        107.2             7.6   \n",
      "197  177.0    9.3        6.4   14.8        192.7            14.0   \n",
      "198  283.6   42.0       66.2   25.5        391.8            14.8   \n",
      "199  232.1    8.6        8.7   18.4        249.4            25.5   \n",
      "\n",
      "     TV_Radio_Interact  \n",
      "0              8697.78  \n",
      "1              1748.85  \n",
      "2               789.48  \n",
      "3              6256.95  \n",
      "4              1952.64  \n",
      "..                 ...  \n",
      "195             141.34  \n",
      "196             461.58  \n",
      "197            1646.10  \n",
      "198           11911.20  \n",
      "199            1996.06  \n",
      "\n",
      "[200 rows x 7 columns]\n"
     ]
    }
   ],
   "source": [
    "df['TV_Radio_Interact'] = df['TV'] * df['Radio']\n",
    "print(df)"
   ]
  },
  {
   "cell_type": "code",
   "execution_count": 72,
   "id": "645d7764",
   "metadata": {},
   "outputs": [
    {
     "name": "stdout",
     "output_type": "stream",
     "text": [
      "        TV  Radio  Newspaper  Sales  Total_Spent  Previous_Sales  \\\n",
      "0    230.1   37.8       69.2   22.1        337.1             NaN   \n",
      "1     44.5   39.3       45.1   10.4        128.9            22.1   \n",
      "2     17.2   45.9       69.3   12.0        132.4            10.4   \n",
      "3    151.5   41.3       58.5   16.5        251.3            12.0   \n",
      "4    180.8   10.8       58.4   17.9        250.0            16.5   \n",
      "..     ...    ...        ...    ...          ...             ...   \n",
      "195   38.2    3.7       13.8    7.6         55.7            17.3   \n",
      "196   94.2    4.9        8.1   14.0        107.2             7.6   \n",
      "197  177.0    9.3        6.4   14.8        192.7            14.0   \n",
      "198  283.6   42.0       66.2   25.5        391.8            14.8   \n",
      "199  232.1    8.6        8.7   18.4        249.4            25.5   \n",
      "\n",
      "     TV_Radio_Interact    TV_log  \n",
      "0              8697.78  5.438514  \n",
      "1              1748.85  3.795489  \n",
      "2               789.48  2.844909  \n",
      "3              6256.95  5.020586  \n",
      "4              1952.64  5.197391  \n",
      "..                 ...       ...  \n",
      "195             141.34  3.642836  \n",
      "196             461.58  4.545420  \n",
      "197            1646.10  5.176150  \n",
      "198           11911.20  5.647565  \n",
      "199            1996.06  5.447168  \n",
      "\n",
      "[200 rows x 8 columns]\n"
     ]
    }
   ],
   "source": [
    "import numpy as np\n",
    "\n",
    "df['TV_log'] = np.log(df['TV'])\n",
    "print(df)"
   ]
  },
  {
   "cell_type": "markdown",
   "id": "579f1fd2",
   "metadata": {},
   "source": [
    "# Linear Regression"
   ]
  },
  {
   "cell_type": "markdown",
   "id": "8481f656",
   "metadata": {},
   "source": [
    "Import the necessary libraries:"
   ]
  },
  {
   "cell_type": "code",
   "execution_count": 53,
   "id": "52bddde5",
   "metadata": {},
   "outputs": [],
   "source": [
    "from sklearn.linear_model import LinearRegression\n",
    "from sklearn.model_selection import train_test_split\n",
    "import pandas as pd"
   ]
  },
  {
   "cell_type": "markdown",
   "id": "92d68509",
   "metadata": {},
   "source": [
    "Load and preprocess your dataset "
   ]
  },
  {
   "cell_type": "code",
   "execution_count": 64,
   "id": "e90c15d7",
   "metadata": {},
   "outputs": [],
   "source": [
    "X = df[['TV', 'Radio', 'Newspaper']]  # Features\n",
    "y = df['Sales']  # Target variable\n",
    "# Split the data into training and testing sets\n",
    "X_train, X_test, y_train, y_test = train_test_split(X, y, test_size=0.2, random_state=42)"
   ]
  },
  {
   "cell_type": "markdown",
   "id": "2188e024",
   "metadata": {},
   "source": [
    "Initialize and train the Linear Regression model:"
   ]
  },
  {
   "cell_type": "code",
   "execution_count": 55,
   "id": "905dc8ea",
   "metadata": {},
   "outputs": [
    {
     "data": {
      "text/plain": [
       "LinearRegression()"
      ]
     },
     "execution_count": 55,
     "metadata": {},
     "output_type": "execute_result"
    }
   ],
   "source": [
    "# Initialize the Linear Regression model\n",
    "model = LinearRegression()\n",
    "# Train the model on the training data\n",
    "model.fit(X_train, y_train)"
   ]
  },
  {
   "cell_type": "markdown",
   "id": "d86fe106",
   "metadata": {},
   "source": [
    "Predict using the model:"
   ]
  },
  {
   "cell_type": "code",
   "execution_count": 56,
   "id": "39bac2e1",
   "metadata": {},
   "outputs": [],
   "source": [
    "# Predict on the test set\n",
    "y_pred = model.predict(X_test)"
   ]
  },
  {
   "cell_type": "code",
   "execution_count": 74,
   "id": "656574e2",
   "metadata": {},
   "outputs": [
    {
     "name": "stdout",
     "output_type": "stream",
     "text": [
      "[17.0347724  20.40974033 23.72398873  9.27278518 21.68271879 12.56940161\n",
      " 21.08119452  8.69035045 17.23701254 16.66657475  8.92396497  8.4817344\n",
      " 18.2075123   8.06750728 12.64550975 14.93162809  8.12814594 17.89876565\n",
      " 11.00880637 20.47832788 20.80631846 12.59883297 10.9051829  22.38854775\n",
      "  9.41796094  7.92506736 20.83908497 13.81520938 10.77080925  7.92682509\n",
      " 15.95947357 10.63490851 20.80292008 10.43434164 21.5784752  21.18364487\n",
      " 12.12821771 22.80953262 12.60992766  6.46441252]\n"
     ]
    }
   ],
   "source": [
    "print(y_pred)"
   ]
  },
  {
   "cell_type": "code",
   "execution_count": 73,
   "id": "f0fc605c",
   "metadata": {},
   "outputs": [
    {
     "data": {
      "image/png": "[encoded data removed]",
      "text/plain": [
       "<Figure size 432x288 with 1 Axes>"
      ]
     },
     "metadata": {
      "needs_background": "light"
     },
     "output_type": "display_data"
    }
   ],
   "source": [
    "import matplotlib.pyplot as plt\n",
    "\n",
    "# Assuming 'y_test' and 'y_pred' are your actual and predicted values, respectively\n",
    "plt.scatter(y_test, y_pred, color='blue')\n",
    "plt.xlabel('Actual Sales')\n",
    "plt.ylabel('Predicted Sales')\n",
    "plt.title('Actual vs. Predicted Sales')\n",
    "plt.show()\n"
   ]
  },
  {
   "cell_type": "markdown",
   "id": "16c16d7f",
   "metadata": {},
   "source": [
    "Evaluate the model:"
   ]
  },
  {
   "cell_type": "code",
   "execution_count": 58,
   "id": "07a1b5bb",
   "metadata": {},
   "outputs": [
    {
     "name": "stdout",
     "output_type": "stream",
     "text": [
      "Mean Squared Error: 2.9077569102710923\n"
     ]
    }
   ],
   "source": [
    "from sklearn.metrics import mean_squared_error\n",
    "# Calculate the Mean Squared Error (MSE)\n",
    "mse = mean_squared_error(y_test, y_pred)\n",
    "print(f\"Mean Squared Error: {mse}\")"
   ]
  },
  {
   "cell_type": "markdown",
   "id": "635761d7",
   "metadata": {},
   "source": [
    " Interpret the model coefficients:"
   ]
  },
  {
   "cell_type": "code",
   "execution_count": 59,
   "id": "b1b84a13",
   "metadata": {},
   "outputs": [
    {
     "name": "stdout",
     "output_type": "stream",
     "text": [
      "Mean Absolute Error: 1.2748262109549344\n"
     ]
    }
   ],
   "source": [
    "from sklearn.metrics import mean_absolute_error\n",
    "\n",
    "# Calculate MAE\n",
    "mae = mean_absolute_error(y_test, y_pred)\n",
    "print(f\"Mean Absolute Error: {mae}\")\n"
   ]
  },
  {
   "cell_type": "code",
   "execution_count": 60,
   "id": "c5cda251",
   "metadata": {},
   "outputs": [
    {
     "name": "stdout",
     "output_type": "stream",
     "text": [
      "Root Mean Squared Error: 1.7052146229349232\n"
     ]
    }
   ],
   "source": [
    "import numpy as np\n",
    "\n",
    "# Calculate RMSE\n",
    "rmse = np.sqrt(mse)\n",
    "print(f\"Root Mean Squared Error: {rmse}\")"
   ]
  },
  {
   "cell_type": "code",
   "execution_count": 61,
   "id": "a2bfa596",
   "metadata": {},
   "outputs": [
    {
     "name": "stdout",
     "output_type": "stream",
     "text": [
      "R-squared (R2) Score: 0.9059011844150826\n"
     ]
    }
   ],
   "source": [
    "from sklearn.metrics import r2_score\n",
    "\n",
    "# Calculate R2 score\n",
    "r2 = r2_score(y_test, y_pred)\n",
    "print(f\"R-squared (R2) Score: {r2}\")\n"
   ]
  },
  {
   "cell_type": "code",
   "execution_count": 62,
   "id": "c3778bd4",
   "metadata": {},
   "outputs": [
    {
     "name": "stdout",
     "output_type": "stream",
     "text": [
      "Coefficients:\n",
      "TV: 0.054509270837219764\n",
      "Radio: 0.10094536239295575\n",
      "Newspaper: 0.004336646822034021\n",
      "Intercept: 4.714126402214134\n"
     ]
    }
   ],
   "source": [
    "# Print the coefficients\n",
    "print(\"Coefficients:\")\n",
    "for feature, coef in zip(X.columns, model.coef_):\n",
    "    print(f\"{feature}: {coef}\")\n",
    "print(f\"Intercept: {model.intercept_}\")"
   ]
  },
  {
   "cell_type": "code",
   "execution_count": null,
   "id": "849d7b2e",
   "metadata": {},
   "outputs": [],
   "source": []
  }
 ],
 "metadata": {
  "kernelspec": {
   "display_name": "Python 3 (ipykernel)",
   "language": "python",
   "name": "python3"
  },
  "language_info": {
   "codemirror_mode": {
    "name": "ipython",
    "version": 3
   },
   "file_extension": ".py",
   "mimetype": "text/x-python",
   "name": "python",
   "nbconvert_exporter": "python",
   "pygments_lexer": "ipython3",
   "version": "3.9.7"
  }
 },
 "nbformat": 4,
 "nbformat_minor": 5
}
