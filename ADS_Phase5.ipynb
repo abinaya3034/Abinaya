{
 "cells": [
  {
   "cell_type": "markdown",
   "id": "b2a0c824",
   "metadata": {},
   "source": [
    "# Importing the Dataset as Dataframe"
   ]
  },
  {
   "cell_type": "code",
   "execution_count": 1,
   "id": "f4f61820",
   "metadata": {},
   "outputs": [],
   "source": [
    "import pandas as pd"
   ]
  },
  {
   "cell_type": "code",
   "execution_count": 2,
   "id": "6e289e8d",
   "metadata": {},
   "outputs": [],
   "source": [
    "df=pd.read_csv(r'Sales.csv')"
   ]
  },
  {
   "cell_type": "code",
   "execution_count": 3,
   "id": "e6817861",
   "metadata": {},
   "outputs": [
    {
     "name": "stdout",
     "output_type": "stream",
     "text": [
      "        TV  Radio  Newspaper  Sales\n",
      "0    230.1   37.8       69.2   22.1\n",
      "1     44.5   39.3       45.1   10.4\n",
      "2     17.2   45.9       69.3   12.0\n",
      "3    151.5   41.3       58.5   16.5\n",
      "4    180.8   10.8       58.4   17.9\n",
      "..     ...    ...        ...    ...\n",
      "195   38.2    3.7       13.8    7.6\n",
      "196   94.2    4.9        8.1   14.0\n",
      "197  177.0    9.3        6.4   14.8\n",
      "198  283.6   42.0       66.2   25.5\n",
      "199  232.1    8.6        8.7   18.4\n",
      "\n",
      "[200 rows x 4 columns]\n"
     ]
    }
   ],
   "source": [
    "print(df)"
   ]
  },
  {
   "cell_type": "code",
   "execution_count": 4,
   "id": "8b65febc",
   "metadata": {},
   "outputs": [
    {
     "name": "stdout",
     "output_type": "stream",
     "text": [
      "      TV  Radio  Newspaper  Sales\n",
      "0  230.1   37.8       69.2   22.1\n",
      "1   44.5   39.3       45.1   10.4\n",
      "2   17.2   45.9       69.3   12.0\n",
      "3  151.5   41.3       58.5   16.5\n",
      "4  180.8   10.8       58.4   17.9\n"
     ]
    }
   ],
   "source": [
    "# Print the first few rows of the DataFrame\n",
    "print(df.head())"
   ]
  },
  {
   "cell_type": "code",
   "execution_count": 5,
   "id": "eeb04b7c",
   "metadata": {},
   "outputs": [
    {
     "name": "stdout",
     "output_type": "stream",
     "text": [
      "\n",
      "Summary Statistics:\n",
      "               TV       Radio   Newspaper       Sales\n",
      "count  200.000000  200.000000  200.000000  200.000000\n",
      "mean   147.042500   23.264000   30.554000   15.130500\n",
      "std     85.854236   14.846809   21.778621    5.283892\n",
      "min      0.700000    0.000000    0.300000    1.600000\n",
      "25%     74.375000    9.975000   12.750000   11.000000\n",
      "50%    149.750000   22.900000   25.750000   16.000000\n",
      "75%    218.825000   36.525000   45.100000   19.050000\n",
      "max    296.400000   49.600000  114.000000   27.000000\n"
     ]
    }
   ],
   "source": [
    "#Check basic statistics\n",
    "summary_stats = df.describe()\n",
    "print(\"\\nSummary Statistics:\")\n",
    "print(summary_stats)"
   ]
  },
  {
   "cell_type": "markdown",
   "id": "2a90e027",
   "metadata": {},
   "source": [
    "# Data cleaning and preprosessing"
   ]
  },
  {
   "cell_type": "code",
   "execution_count": 6,
   "id": "27a92277",
   "metadata": {},
   "outputs": [
    {
     "name": "stdout",
     "output_type": "stream",
     "text": [
      "Missing Values:\n",
      "TV           0\n",
      "Radio        0\n",
      "Newspaper    0\n",
      "Sales        0\n",
      "dtype: int64\n",
      "\n",
      "No missing values found. Data is available.\n"
     ]
    }
   ],
   "source": [
    "#checking wheather the data is available or not recorded.\n",
    "missing_values = df.isnull().sum()\n",
    "# Print the missing values (if any)\n",
    "print(\"Missing Values:\")\n",
    "print(missing_values)\n",
    "\n",
    "# You can also print a message based on the result\n",
    "if missing_values.sum() == 0:\n",
    "    print(\"\\nNo missing values found. Data is available.\")\n",
    "else:\n",
    "    print(\"\\nMissing values found. Data may be incomplete or recorded incorrectly.\")"
   ]
  },
  {
   "cell_type": "code",
   "execution_count": 7,
   "id": "bc7f40af",
   "metadata": {},
   "outputs": [
    {
     "name": "stdout",
     "output_type": "stream",
     "text": [
      "The values in the column 'TV' are within the reasonable range of (0,1000)\n",
      "The values in the column 'Radio' are within the reasonable range of (0,100)\n",
      "The values in the column 'Newspaper' are within the reasonable range of (0,200)\n",
      "The values in the column 'Sales' are within the reasonable range of (0,100)\n"
     ]
    }
   ],
   "source": [
    "#Define reasonable ranges for each variable\n",
    "reasonable_ranges = {\n",
    "    'TV': (0, 1000),    # Example: TV budget should be between 0 and 1000\n",
    "    'Radio': (0, 100),   # Example: Radio budget should be between 0 and 100\n",
    "    'Newspaper': (0, 200),  # Example: Newspaper budget should be between 0 and 200\n",
    "    'Sales': (0, 100)    # Example: Sales should be between 0 and 100\n",
    "}\n",
    "\n",
    "# Step 3: Perform range checks\n",
    "for column, (min_val, max_val) in reasonable_ranges.items():\n",
    "    if ((df[column] < min_val) | (df[column] > max_val)).any():\n",
    "        print(f\"Warning: Values in column '{column}' are not within the reasonable range of ({min_val}, {max_val}). Please verify the data.\")\n",
    "    else:\n",
    "        print(f\"The values in the column '{column}' are within the reasonable range of ({min_val},{max_val})\")"
   ]
  },
  {
   "cell_type": "code",
   "execution_count": 8,
   "id": "6d62038c",
   "metadata": {},
   "outputs": [
    {
     "name": "stdout",
     "output_type": "stream",
     "text": [
      "The Data contains non negative sales values\n"
     ]
    }
   ],
   "source": [
    "#To check whether the data entered is correct or not.\n",
    "# Checking if sales values are non-negative\n",
    "if (df['Sales'] < 0).any():\n",
    "    print(\"Warning: There are negative sales values. Please verify the data.\")\n",
    "else:\n",
    "    print(\"The Data contains non negative sales values\")"
   ]
  },
  {
   "cell_type": "code",
   "execution_count": 9,
   "id": "3732a95b",
   "metadata": {},
   "outputs": [
    {
     "name": "stdout",
     "output_type": "stream",
     "text": [
      "No negative values found.\n"
     ]
    }
   ],
   "source": [
    "# Check for negative or unrealistic values\n",
    "if (df < 0).any().any():\n",
    "    print(f\"Warning: There are negative values in the dataset. Please verify the data.\")\n",
    "else:\n",
    "    print(\"No negative values found.\")"
   ]
  },
  {
   "cell_type": "code",
   "execution_count": 10,
   "id": "df1de409",
   "metadata": {},
   "outputs": [
    {
     "name": "stdout",
     "output_type": "stream",
     "text": [
      "The Data contains non negative advertising budget values\n"
     ]
    }
   ],
   "source": [
    "# Checking if advertising budgets are non-negative\n",
    "if (df[['TV', 'Radio', 'Newspaper']] < 0).any().any():\n",
    "    print(\"Warning: There are negative advertising budget values. Please verify the data.\")\n",
    "else:\n",
    "    print(\"The Data contains non negative advertising budget values\")"
   ]
  },
  {
   "cell_type": "code",
   "execution_count": 11,
   "id": "57766d3b",
   "metadata": {},
   "outputs": [
    {
     "name": "stdout",
     "output_type": "stream",
     "text": [
      "DataFrame without Duplicates:\n",
      "        TV  Radio  Newspaper  Sales\n",
      "0    230.1   37.8       69.2   22.1\n",
      "1     44.5   39.3       45.1   10.4\n",
      "2     17.2   45.9       69.3   12.0\n",
      "3    151.5   41.3       58.5   16.5\n",
      "4    180.8   10.8       58.4   17.9\n",
      "..     ...    ...        ...    ...\n",
      "195   38.2    3.7       13.8    7.6\n",
      "196   94.2    4.9        8.1   14.0\n",
      "197  177.0    9.3        6.4   14.8\n",
      "198  283.6   42.0       66.2   25.5\n",
      "199  232.1    8.6        8.7   18.4\n",
      "\n",
      "[200 rows x 4 columns]\n"
     ]
    }
   ],
   "source": [
    "#to remove duplicate values\n",
    "df_dup = df.drop_duplicates()\n",
    "# Display the DataFrame without duplicates\n",
    "print(\"DataFrame without Duplicates:\")\n",
    "print(df_dup)"
   ]
  },
  {
   "cell_type": "code",
   "execution_count": 12,
   "id": "a4bd281b",
   "metadata": {},
   "outputs": [],
   "source": [
    "#Check for outliers and decide whether to remove them or not.\n",
    "import numpy as np"
   ]
  },
  {
   "cell_type": "code",
   "execution_count": 13,
   "id": "d4ccda1e",
   "metadata": {},
   "outputs": [],
   "source": [
    "# Define a function to detect outliers using IQR method\n",
    "def detect_outliers(data):\n",
    "    Q1 = data.quantile(0.25)\n",
    "    Q3 = data.quantile(0.75)\n",
    "    IQR = Q3 - Q1\n",
    "    lower_bound = Q1 - 1.5 * IQR\n",
    "    upper_bound = Q3 + 1.5 * IQR\n",
    "    return (data < lower_bound) | (data > upper_bound)"
   ]
  },
  {
   "cell_type": "code",
   "execution_count": 14,
   "id": "eec9d6af",
   "metadata": {},
   "outputs": [],
   "source": [
    "# Select the columns you want to check for outliers\n",
    "columns_to_check = ['TV', 'Radio', 'Newspaper', 'Sales']"
   ]
  },
  {
   "cell_type": "code",
   "execution_count": 15,
   "id": "66b01562",
   "metadata": {},
   "outputs": [
    {
     "name": "stdout",
     "output_type": "stream",
     "text": [
      "        TV  Radio  Newspaper  Sales\n",
      "0    False  False      False  False\n",
      "1    False  False      False  False\n",
      "2    False  False      False  False\n",
      "3    False  False      False  False\n",
      "4    False  False      False  False\n",
      "..     ...    ...        ...    ...\n",
      "195  False  False      False  False\n",
      "196  False  False      False  False\n",
      "197  False  False      False  False\n",
      "198  False  False      False  False\n",
      "199  False  False      False  False\n",
      "\n",
      "[200 rows x 4 columns]\n"
     ]
    }
   ],
   "source": [
    "# Check for outliers in each column\n",
    "outliers = df[columns_to_check].apply(detect_outliers)\n",
    "print(outliers)"
   ]
  },
  {
   "cell_type": "code",
   "execution_count": 16,
   "id": "7e8b1016",
   "metadata": {},
   "outputs": [
    {
     "name": "stdout",
     "output_type": "stream",
     "text": [
      "Number of outliers:\n",
      "TV           0\n",
      "Radio        0\n",
      "Newspaper    2\n",
      "Sales        0\n",
      "dtype: int64\n"
     ]
    }
   ],
   "source": [
    "# Count the number of outliers in each column\n",
    "num_outliers = outliers.sum()\n",
    "# Display the number of outliers for each column\n",
    "print(\"Number of outliers:\")\n",
    "print(num_outliers)"
   ]
  },
  {
   "cell_type": "code",
   "execution_count": 17,
   "id": "1607725e",
   "metadata": {},
   "outputs": [
    {
     "name": "stdout",
     "output_type": "stream",
     "text": [
      "\n",
      "Rows containing outliers:\n",
      "        TV  Radio  Newspaper  Sales\n",
      "16    67.8   36.6      114.0   12.5\n",
      "101  296.4   36.3      100.9   23.8\n"
     ]
    }
   ],
   "source": [
    "# Display the rows containing outliers\n",
    "outliers_rows = df[outliers.any(axis=1)]\n",
    "print(\"\\nRows containing outliers:\")\n",
    "print(outliers_rows)"
   ]
  },
  {
   "cell_type": "code",
   "execution_count": 18,
   "id": "7d0d4393",
   "metadata": {},
   "outputs": [
    {
     "name": "stdout",
     "output_type": "stream",
     "text": [
      "\n",
      "Outliers removed:\n",
      "        TV  Radio  Newspaper  Sales\n",
      "0    230.1   37.8       69.2   22.1\n",
      "1     44.5   39.3       45.1   10.4\n",
      "2     17.2   45.9       69.3   12.0\n",
      "3    151.5   41.3       58.5   16.5\n",
      "4    180.8   10.8       58.4   17.9\n",
      "..     ...    ...        ...    ...\n",
      "195   38.2    3.7       13.8    7.6\n",
      "196   94.2    4.9        8.1   14.0\n",
      "197  177.0    9.3        6.4   14.8\n",
      "198  283.6   42.0       66.2   25.5\n",
      "199  232.1    8.6        8.7   18.4\n",
      "\n",
      "[198 rows x 4 columns]\n"
     ]
    }
   ],
   "source": [
    "# To remove outliers, you can use something like this:\n",
    "df_cleaned = df[~outliers.any(axis=1)]\n",
    "print(\"\\nOutliers removed:\")\n",
    "print(df_cleaned)"
   ]
  },
  {
   "cell_type": "code",
   "execution_count": 19,
   "id": "ea63d15a",
   "metadata": {},
   "outputs": [
    {
     "name": "stdout",
     "output_type": "stream",
     "text": [
      "0    22.1\n",
      "1    10.4\n",
      "2    12.0\n",
      "3    16.5\n",
      "4    17.9\n",
      "Name: Sales, dtype: float64\n"
     ]
    }
   ],
   "source": [
    "# Extracting the dependent variable 'Sales'\n",
    "y = df['Sales']\n",
    "# Printing the first few rows of 'Sales' to verify\n",
    "print(y.head())"
   ]
  },
  {
   "cell_type": "code",
   "execution_count": 20,
   "id": "d2feb9fb",
   "metadata": {},
   "outputs": [
    {
     "name": "stdout",
     "output_type": "stream",
     "text": [
      "Independent Variables:\n",
      "        TV  Radio  Newspaper\n",
      "0    230.1   37.8       69.2\n",
      "1     44.5   39.3       45.1\n",
      "2     17.2   45.9       69.3\n",
      "3    151.5   41.3       58.5\n",
      "4    180.8   10.8       58.4\n",
      "..     ...    ...        ...\n",
      "195   38.2    3.7       13.8\n",
      "196   94.2    4.9        8.1\n",
      "197  177.0    9.3        6.4\n",
      "198  283.6   42.0       66.2\n",
      "199  232.1    8.6        8.7\n",
      "\n",
      "[200 rows x 3 columns]\n"
     ]
    }
   ],
   "source": [
    "# Extracting the independent variables into a DataFrame\n",
    "independent_variables = df[['TV', 'Radio', 'Newspaper']]\n",
    "# Printing the extracted independent variables\n",
    "print(\"Independent Variables:\")\n",
    "print(independent_variables)"
   ]
  },
  {
   "cell_type": "code",
   "execution_count": 21,
   "id": "7c89c5b9",
   "metadata": {},
   "outputs": [
    {
     "name": "stdout",
     "output_type": "stream",
     "text": [
      "DataFrame with Binning:\n",
      "        TV  Radio  Newspaper  Sales Sales_bin\n",
      "0    230.1   37.8       69.2   22.1     20-30\n",
      "1     44.5   39.3       45.1   10.4     10-20\n",
      "2     17.2   45.9       69.3   12.0     10-20\n",
      "3    151.5   41.3       58.5   16.5     10-20\n",
      "4    180.8   10.8       58.4   17.9     10-20\n",
      "..     ...    ...        ...    ...       ...\n",
      "195   38.2    3.7       13.8    7.6      0-10\n",
      "196   94.2    4.9        8.1   14.0     10-20\n",
      "197  177.0    9.3        6.4   14.8     10-20\n",
      "198  283.6   42.0       66.2   25.5     20-30\n",
      "199  232.1    8.6        8.7   18.4     10-20\n",
      "\n",
      "[200 rows x 5 columns]\n"
     ]
    }
   ],
   "source": [
    "#Bining the data\n",
    "# Adjust the bin_edges and bin_labels as per your specific requirements\n",
    "bin_edges = [0, 10, 20, 30, 40, 50, 60, 70, 80, 90, 100]\n",
    "bin_labels = ['0-10', '10-20', '20-30', '30-40', '40-50', '50-60', '60-70', '70-80', '80-90', '90-100']\n",
    "\n",
    "# Step 3: Apply binning to a specific column (e.g., 'Sales')\n",
    "df['Sales_bin'] = pd.cut(df['Sales'], bins=bin_edges, labels=bin_labels, include_lowest=True)\n",
    "\n",
    "# You can choose a different column \n",
    "#or adjust bin_edges and bin_labels based on your specific requirements.\n",
    "\n",
    "# Display the DataFrame with the new binning column\n",
    "print(\"DataFrame with Binning:\")\n",
    "print(df)"
   ]
  },
  {
   "cell_type": "code",
   "execution_count": 22,
   "id": "dd0c8061",
   "metadata": {},
   "outputs": [
    {
     "name": "stdout",
     "output_type": "stream",
     "text": [
      "                 TV     Radio  Newspaper     Sales\n",
      "TV         1.000000  0.054809   0.056648  0.901208\n",
      "Radio      0.054809  1.000000   0.354104  0.349631\n",
      "Newspaper  0.056648  0.354104   1.000000  0.157960\n",
      "Sales      0.901208  0.349631   0.157960  1.000000\n"
     ]
    }
   ],
   "source": [
    "# Correlation matrix\n",
    "correlation_matrix = df.corr()\n",
    "print(correlation_matrix)"
   ]
  },
  {
   "cell_type": "code",
   "execution_count": 23,
   "id": "12ad8621",
   "metadata": {},
   "outputs": [
    {
     "name": "stdout",
     "output_type": "stream",
     "text": [
      "Cleaned and Preprocessed DataFrame:\n",
      "           TV     Radio  Newspaper  Sales\n",
      "0    0.978697  0.989521   1.932998   22.1\n",
      "1   -1.199012  1.090705   0.751313   10.4\n",
      "2   -1.519332  1.535913   1.937901   12.0\n",
      "3    0.056456  1.225616   1.408349   16.5\n",
      "4    0.400243 -0.831784   1.403446   17.9\n",
      "..        ...       ...        ...    ...\n",
      "195 -1.272932 -1.310720  -0.783407    7.6\n",
      "196 -0.615864 -1.229773  -1.062892   14.0\n",
      "197  0.355657 -0.932968  -1.146248   14.8\n",
      "198  1.606431  1.272836   1.785900   25.5\n",
      "199  1.002164 -0.980187  -1.033473   18.4\n",
      "\n",
      "[198 rows x 4 columns]\n"
     ]
    },
    {
     "name": "stderr",
     "output_type": "stream",
     "text": [
      "C:\\Users\\S.BALAKRISHNAN\\anaconda3\\lib\\site-packages\\pandas\\core\\frame.py:3678: SettingWithCopyWarning: \n",
      "A value is trying to be set on a copy of a slice from a DataFrame.\n",
      "Try using .loc[row_indexer,col_indexer] = value instead\n",
      "\n",
      "See the caveats in the documentation: https://pandas.pydata.org/pandas-docs/stable/user_guide/indexing.html#returning-a-view-versus-a-copy\n",
      "  self[col] = igetitem(value, i)\n"
     ]
    }
   ],
   "source": [
    "from sklearn.preprocessing import StandardScaler\n",
    "scaler = StandardScaler()\n",
    "numerical_features = ['TV', 'Radio', 'Newspaper']\n",
    "df_cleaned[numerical_features] = scaler.fit_transform(df_cleaned[numerical_features])\n",
    "print(\"Cleaned and Preprocessed DataFrame:\")\n",
    "print(df_cleaned)"
   ]
  },
  {
   "cell_type": "code",
   "execution_count": 24,
   "id": "8aa4735f",
   "metadata": {},
   "outputs": [
    {
     "data": {
      "image/png": "[encoded data removed]",
      "text/plain": [
       "<Figure size 432x288 with 1 Axes>"
      ]
     },
     "metadata": {
      "needs_background": "light"
     },
     "output_type": "display_data"
    },
    {
     "name": "stdout",
     "output_type": "stream",
     "text": [
      "DataFrame with Clusters:\n",
      "        TV  Radio  Newspaper  Sales Sales_bin  Cluster\n",
      "0    230.1   37.8       69.2   22.1     20-30        2\n",
      "1     44.5   39.3       45.1   10.4     10-20        1\n",
      "2     17.2   45.9       69.3   12.0     10-20        1\n",
      "3    151.5   41.3       58.5   16.5     10-20        0\n",
      "4    180.8   10.8       58.4   17.9     10-20        0\n",
      "..     ...    ...        ...    ...       ...      ...\n",
      "195   38.2    3.7       13.8    7.6      0-10        1\n",
      "196   94.2    4.9        8.1   14.0     10-20        0\n",
      "197  177.0    9.3        6.4   14.8     10-20        0\n",
      "198  283.6   42.0       66.2   25.5     20-30        2\n",
      "199  232.1    8.6        8.7   18.4     10-20        2\n",
      "\n",
      "[200 rows x 6 columns]\n"
     ]
    }
   ],
   "source": [
    "from sklearn.cluster import KMeans\n",
    "import matplotlib.pyplot as plt\n",
    "\n",
    "#Select the features for clustering (e.g., 'TV', 'Radio', 'Newspaper')\n",
    "features = df[['TV', 'Radio', 'Newspaper']]\n",
    "\n",
    "#Choose the number of clusters (k)\n",
    "k = 3  # Adjust based on your specific analysis\n",
    "\n",
    "#Perform K-Means clustering\n",
    "kmeans = KMeans(n_clusters=k, random_state=0)\n",
    "df['Cluster'] = kmeans.fit_predict(features)\n",
    "\n",
    "#Visualize the clusters (for 2D visualization)\n",
    "plt.scatter(df['TV'], df['Radio'], c=df['Cluster'], cmap='viridis')\n",
    "plt.xlabel('TV')\n",
    "plt.ylabel('Radio')\n",
    "plt.title('K-Means Clustering')\n",
    "plt.show()\n",
    "\n",
    "# The above visualization assumes 'TV' and 'Radio' as features. You can adjust based on your specific features.\n",
    "\n",
    "#Optional - Perform further analysis on the clusters\n",
    "# You can analyze the clusters further to understand their characteristics.\n",
    "\n",
    "# Display the DataFrame with cluster assignments\n",
    "print(\"DataFrame with Clusters:\")\n",
    "print(df)\n"
   ]
  },
  {
   "cell_type": "markdown",
   "id": "0eee9a78",
   "metadata": {},
   "source": [
    "# Adding Features"
   ]
  },
  {
   "cell_type": "code",
   "execution_count": 25,
   "id": "ae910d4e",
   "metadata": {},
   "outputs": [
    {
     "name": "stdout",
     "output_type": "stream",
     "text": [
      "        TV  Radio  Newspaper  Sales Sales_bin  Cluster  Total_Spent\n",
      "0    230.1   37.8       69.2   22.1     20-30        2        337.1\n",
      "1     44.5   39.3       45.1   10.4     10-20        1        128.9\n",
      "2     17.2   45.9       69.3   12.0     10-20        1        132.4\n",
      "3    151.5   41.3       58.5   16.5     10-20        0        251.3\n",
      "4    180.8   10.8       58.4   17.9     10-20        0        250.0\n",
      "..     ...    ...        ...    ...       ...      ...          ...\n",
      "195   38.2    3.7       13.8    7.6      0-10        1         55.7\n",
      "196   94.2    4.9        8.1   14.0     10-20        0        107.2\n",
      "197  177.0    9.3        6.4   14.8     10-20        0        192.7\n",
      "198  283.6   42.0       66.2   25.5     20-30        2        391.8\n",
      "199  232.1    8.6        8.7   18.4     10-20        2        249.4\n",
      "\n",
      "[200 rows x 7 columns]\n"
     ]
    }
   ],
   "source": [
    "df['Total_Spent'] = df['TV'] + df['Radio'] + df['Newspaper']\n",
    "print(df)"
   ]
  },
  {
   "cell_type": "code",
   "execution_count": 26,
   "id": "96ec89a7",
   "metadata": {},
   "outputs": [
    {
     "name": "stdout",
     "output_type": "stream",
     "text": [
      "        TV  Radio  Newspaper  Sales Sales_bin  Cluster  Total_Spent  \\\n",
      "0    230.1   37.8       69.2   22.1     20-30        2        337.1   \n",
      "1     44.5   39.3       45.1   10.4     10-20        1        128.9   \n",
      "2     17.2   45.9       69.3   12.0     10-20        1        132.4   \n",
      "3    151.5   41.3       58.5   16.5     10-20        0        251.3   \n",
      "4    180.8   10.8       58.4   17.9     10-20        0        250.0   \n",
      "..     ...    ...        ...    ...       ...      ...          ...   \n",
      "195   38.2    3.7       13.8    7.6      0-10        1         55.7   \n",
      "196   94.2    4.9        8.1   14.0     10-20        0        107.2   \n",
      "197  177.0    9.3        6.4   14.8     10-20        0        192.7   \n",
      "198  283.6   42.0       66.2   25.5     20-30        2        391.8   \n",
      "199  232.1    8.6        8.7   18.4     10-20        2        249.4   \n",
      "\n",
      "     Previous_Sales  \n",
      "0               NaN  \n",
      "1              22.1  \n",
      "2              10.4  \n",
      "3              12.0  \n",
      "4              16.5  \n",
      "..              ...  \n",
      "195            17.3  \n",
      "196             7.6  \n",
      "197            14.0  \n",
      "198            14.8  \n",
      "199            25.5  \n",
      "\n",
      "[200 rows x 8 columns]\n"
     ]
    }
   ],
   "source": [
    "df['Previous_Sales'] = df['Sales'].shift(1)  # Lagged sales\n",
    "print(df)"
   ]
  },
  {
   "cell_type": "code",
   "execution_count": 27,
   "id": "216eba41",
   "metadata": {},
   "outputs": [
    {
     "name": "stdout",
     "output_type": "stream",
     "text": [
      "        TV  Radio  Newspaper  Sales Sales_bin  Cluster  Total_Spent  \\\n",
      "0    230.1   37.8       69.2   22.1     20-30        2        337.1   \n",
      "1     44.5   39.3       45.1   10.4     10-20        1        128.9   \n",
      "2     17.2   45.9       69.3   12.0     10-20        1        132.4   \n",
      "3    151.5   41.3       58.5   16.5     10-20        0        251.3   \n",
      "4    180.8   10.8       58.4   17.9     10-20        0        250.0   \n",
      "..     ...    ...        ...    ...       ...      ...          ...   \n",
      "195   38.2    3.7       13.8    7.6      0-10        1         55.7   \n",
      "196   94.2    4.9        8.1   14.0     10-20        0        107.2   \n",
      "197  177.0    9.3        6.4   14.8     10-20        0        192.7   \n",
      "198  283.6   42.0       66.2   25.5     20-30        2        391.8   \n",
      "199  232.1    8.6        8.7   18.4     10-20        2        249.4   \n",
      "\n",
      "     Previous_Sales  TV_Radio_Interact  \n",
      "0               NaN            8697.78  \n",
      "1              22.1            1748.85  \n",
      "2              10.4             789.48  \n",
      "3              12.0            6256.95  \n",
      "4              16.5            1952.64  \n",
      "..              ...                ...  \n",
      "195            17.3             141.34  \n",
      "196             7.6             461.58  \n",
      "197            14.0            1646.10  \n",
      "198            14.8           11911.20  \n",
      "199            25.5            1996.06  \n",
      "\n",
      "[200 rows x 9 columns]\n"
     ]
    }
   ],
   "source": [
    "df['TV_Radio_Interact'] = df['TV'] * df['Radio']\n",
    "print(df)"
   ]
  },
  {
   "cell_type": "code",
   "execution_count": 28,
   "id": "852a2cab",
   "metadata": {},
   "outputs": [
    {
     "name": "stdout",
     "output_type": "stream",
     "text": [
      "        TV  Radio  Newspaper  Sales Sales_bin  Cluster  Total_Spent  \\\n",
      "0    230.1   37.8       69.2   22.1     20-30        2        337.1   \n",
      "1     44.5   39.3       45.1   10.4     10-20        1        128.9   \n",
      "2     17.2   45.9       69.3   12.0     10-20        1        132.4   \n",
      "3    151.5   41.3       58.5   16.5     10-20        0        251.3   \n",
      "4    180.8   10.8       58.4   17.9     10-20        0        250.0   \n",
      "..     ...    ...        ...    ...       ...      ...          ...   \n",
      "195   38.2    3.7       13.8    7.6      0-10        1         55.7   \n",
      "196   94.2    4.9        8.1   14.0     10-20        0        107.2   \n",
      "197  177.0    9.3        6.4   14.8     10-20        0        192.7   \n",
      "198  283.6   42.0       66.2   25.5     20-30        2        391.8   \n",
      "199  232.1    8.6        8.7   18.4     10-20        2        249.4   \n",
      "\n",
      "     Previous_Sales  TV_Radio_Interact  \n",
      "0               NaN            8697.78  \n",
      "1              22.1            1748.85  \n",
      "2              10.4             789.48  \n",
      "3              12.0            6256.95  \n",
      "4              16.5            1952.64  \n",
      "..              ...                ...  \n",
      "195            17.3             141.34  \n",
      "196             7.6             461.58  \n",
      "197            14.0            1646.10  \n",
      "198            14.8           11911.20  \n",
      "199            25.5            1996.06  \n",
      "\n",
      "[200 rows x 9 columns]\n"
     ]
    }
   ],
   "source": [
    "df['TV_Radio_Interact'] = df['TV'] * df['Radio']\n",
    "print(df)"
   ]
  },
  {
   "cell_type": "code",
   "execution_count": 29,
   "id": "83be2c17",
   "metadata": {},
   "outputs": [
    {
     "name": "stdout",
     "output_type": "stream",
     "text": [
      "        TV  Radio  Newspaper  Sales Sales_bin  Cluster  Total_Spent  \\\n",
      "0    230.1   37.8       69.2   22.1     20-30        2        337.1   \n",
      "1     44.5   39.3       45.1   10.4     10-20        1        128.9   \n",
      "2     17.2   45.9       69.3   12.0     10-20        1        132.4   \n",
      "3    151.5   41.3       58.5   16.5     10-20        0        251.3   \n",
      "4    180.8   10.8       58.4   17.9     10-20        0        250.0   \n",
      "..     ...    ...        ...    ...       ...      ...          ...   \n",
      "195   38.2    3.7       13.8    7.6      0-10        1         55.7   \n",
      "196   94.2    4.9        8.1   14.0     10-20        0        107.2   \n",
      "197  177.0    9.3        6.4   14.8     10-20        0        192.7   \n",
      "198  283.6   42.0       66.2   25.5     20-30        2        391.8   \n",
      "199  232.1    8.6        8.7   18.4     10-20        2        249.4   \n",
      "\n",
      "     Previous_Sales  TV_Radio_Interact    TV_log  \n",
      "0               NaN            8697.78  5.438514  \n",
      "1              22.1            1748.85  3.795489  \n",
      "2              10.4             789.48  2.844909  \n",
      "3              12.0            6256.95  5.020586  \n",
      "4              16.5            1952.64  5.197391  \n",
      "..              ...                ...       ...  \n",
      "195            17.3             141.34  3.642836  \n",
      "196             7.6             461.58  4.545420  \n",
      "197            14.0            1646.10  5.176150  \n",
      "198            14.8           11911.20  5.647565  \n",
      "199            25.5            1996.06  5.447168  \n",
      "\n",
      "[200 rows x 10 columns]\n"
     ]
    }
   ],
   "source": [
    "import numpy as np\n",
    "\n",
    "df['TV_log'] = np.log(df['TV'])\n",
    "print(df)"
   ]
  },
  {
   "cell_type": "markdown",
   "id": "77ea3723",
   "metadata": {},
   "source": [
    "# Model Selection and Training"
   ]
  },
  {
   "cell_type": "markdown",
   "id": "720c26e4",
   "metadata": {},
   "source": [
    "Linear Regression is selected as Model "
   ]
  },
  {
   "cell_type": "markdown",
   "id": "567d79f1",
   "metadata": {},
   "source": [
    "____________________________"
   ]
  },
  {
   "cell_type": "markdown",
   "id": "0616389f",
   "metadata": {},
   "source": [
    "Import the necessary libraries:"
   ]
  },
  {
   "cell_type": "code",
   "execution_count": 30,
   "id": "50d03b8e",
   "metadata": {},
   "outputs": [],
   "source": [
    "from sklearn.linear_model import LinearRegression\n",
    "from sklearn.model_selection import train_test_split\n",
    "import pandas as pd"
   ]
  },
  {
   "cell_type": "markdown",
   "id": "e68db400",
   "metadata": {},
   "source": [
    "Load and preprocess your dataset:"
   ]
  },
  {
   "cell_type": "code",
   "execution_count": 31,
   "id": "da8196f3",
   "metadata": {},
   "outputs": [],
   "source": [
    "X = df[['TV', 'Radio', 'Newspaper']]  # Features\n",
    "y = df['Sales']  # Target variable\n",
    "# Split the data into training and testing sets\n",
    "X_train, X_test, y_train, y_test = train_test_split(X, y, test_size=0.2, random_state=42)"
   ]
  },
  {
   "cell_type": "markdown",
   "id": "54173050",
   "metadata": {},
   "source": [
    "Initialize and train the Linear Regression model:"
   ]
  },
  {
   "cell_type": "code",
   "execution_count": 32,
   "id": "6623593e",
   "metadata": {},
   "outputs": [
    {
     "data": {
      "text/plain": [
       "LinearRegression()"
      ]
     },
     "execution_count": 32,
     "metadata": {},
     "output_type": "execute_result"
    }
   ],
   "source": [
    "# Initialize the Linear Regression model\n",
    "model = LinearRegression()\n",
    "# Train the model on the training data\n",
    "model.fit(X_train, y_train)"
   ]
  },
  {
   "cell_type": "markdown",
   "id": "ce5b0bb0",
   "metadata": {},
   "source": [
    "Predict using the model:"
   ]
  },
  {
   "cell_type": "code",
   "execution_count": 33,
   "id": "e1a0d39f",
   "metadata": {},
   "outputs": [
    {
     "name": "stdout",
     "output_type": "stream",
     "text": [
      "[17.0347724  20.40974033 23.72398873  9.27278518 21.68271879 12.56940161\n",
      " 21.08119452  8.69035045 17.23701254 16.66657475  8.92396497  8.4817344\n",
      " 18.2075123   8.06750728 12.64550975 14.93162809  8.12814594 17.89876565\n",
      " 11.00880637 20.47832788 20.80631846 12.59883297 10.9051829  22.38854775\n",
      "  9.41796094  7.92506736 20.83908497 13.81520938 10.77080925  7.92682509\n",
      " 15.95947357 10.63490851 20.80292008 10.43434164 21.5784752  21.18364487\n",
      " 12.12821771 22.80953262 12.60992766  6.46441252]\n"
     ]
    }
   ],
   "source": [
    "# Predict on the test set\n",
    "y_pred = model.predict(X_test)\n",
    "print(y_pred)"
   ]
  },
  {
   "cell_type": "code",
   "execution_count": 34,
   "id": "4bbffe25",
   "metadata": {},
   "outputs": [
    {
     "data": {
      "image/png": "[encoded data removed]",
      "text/plain": [
       "<Figure size 432x288 with 1 Axes>"
      ]
     },
     "metadata": {
      "needs_background": "light"
     },
     "output_type": "display_data"
    }
   ],
   "source": [
    "import matplotlib.pyplot as plt\n",
    "\n",
    "# Assuming 'y_test' and 'y_pred' are your actual and predicted values, respectively\n",
    "plt.scatter(y_test, y_pred, color='blue')\n",
    "plt.xlabel('Actual Sales')\n",
    "plt.ylabel('Predicted Sales')\n",
    "plt.title('Actual vs. Predicted Sales')\n",
    "plt.show()"
   ]
  },
  {
   "cell_type": "markdown",
   "id": "08f4880c",
   "metadata": {},
   "source": [
    "# Evaluation"
   ]
  },
  {
   "cell_type": "code",
   "execution_count": 35,
   "id": "3e1e0ffb",
   "metadata": {},
   "outputs": [
    {
     "name": "stdout",
     "output_type": "stream",
     "text": [
      "Mean Squared Error: 2.9077569102710923\n"
     ]
    }
   ],
   "source": [
    "from sklearn.metrics import mean_squared_error\n",
    "# Calculate the Mean Squared Error (MSE)\n",
    "mse = mean_squared_error(y_test, y_pred)\n",
    "print(f\"Mean Squared Error: {mse}\")"
   ]
  },
  {
   "cell_type": "code",
   "execution_count": 36,
   "id": "f8f235bf",
   "metadata": {},
   "outputs": [
    {
     "name": "stdout",
     "output_type": "stream",
     "text": [
      "Mean Absolute Error: 1.2748262109549344\n"
     ]
    }
   ],
   "source": [
    "from sklearn.metrics import mean_absolute_error\n",
    "\n",
    "# Calculate MAE\n",
    "mae = mean_absolute_error(y_test, y_pred)\n",
    "print(f\"Mean Absolute Error: {mae}\")"
   ]
  },
  {
   "cell_type": "code",
   "execution_count": 37,
   "id": "e625dfe3",
   "metadata": {},
   "outputs": [
    {
     "name": "stdout",
     "output_type": "stream",
     "text": [
      "Root Mean Squared Error: 1.7052146229349232\n"
     ]
    }
   ],
   "source": [
    "import numpy as np\n",
    "\n",
    "# Calculate RMSE\n",
    "rmse = np.sqrt(mse)\n",
    "print(f\"Root Mean Squared Error: {rmse}\")"
   ]
  },
  {
   "cell_type": "code",
   "execution_count": 38,
   "id": "4278f0fe",
   "metadata": {},
   "outputs": [
    {
     "name": "stdout",
     "output_type": "stream",
     "text": [
      "R-squared (R2) Score: 0.9059011844150826\n"
     ]
    }
   ],
   "source": [
    "from sklearn.metrics import r2_score\n",
    "\n",
    "# Calculate R2 score\n",
    "r2 = r2_score(y_test, y_pred)\n",
    "print(f\"R-squared (R2) Score: {r2}\")"
   ]
  },
  {
   "cell_type": "code",
   "execution_count": 39,
   "id": "e4b3a995",
   "metadata": {},
   "outputs": [
    {
     "name": "stdout",
     "output_type": "stream",
     "text": [
      "Coefficients:\n",
      "TV: 0.054509270837219764\n",
      "Radio: 0.10094536239295575\n",
      "Newspaper: 0.004336646822034021\n",
      "Intercept: 4.714126402214134\n"
     ]
    }
   ],
   "source": [
    "# Print the coefficients\n",
    "print(\"Coefficients:\")\n",
    "for feature, coef in zip(X.columns, model.coef_):\n",
    "    print(f\"{feature}: {coef}\")\n",
    "print(f\"Intercept: {model.intercept_}\")"
   ]
  },
  {
   "cell_type": "code",
   "execution_count": null,
   "id": "f0e9a77f",
   "metadata": {},
   "outputs": [],
   "source": []
  }
 ],
 "metadata": {
  "kernelspec": {
   "display_name": "Python 3 (ipykernel)",
   "language": "python",
   "name": "python3"
  },
  "language_info": {
   "codemirror_mode": {
    "name": "ipython",
    "version": 3
   },
   "file_extension": ".py",
   "mimetype": "text/x-python",
   "name": "python",
   "nbconvert_exporter": "python",
   "pygments_lexer": "ipython3",
   "version": "3.9.7"
  }
 },
 "nbformat": 4,
 "nbformat_minor": 5
}
