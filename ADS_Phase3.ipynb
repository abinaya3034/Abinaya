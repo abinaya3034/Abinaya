{
 "cells": [
  {
   "cell_type": "code",
   "execution_count": 103,
   "id": "49fa4137",
   "metadata": {},
   "outputs": [],
   "source": [
    "import pandas as pd"
   ]
  },
  {
   "cell_type": "code",
   "execution_count": 104,
   "id": "d9fd1022",
   "metadata": {},
   "outputs": [],
   "source": [
    "df=pd.read_csv(r'Sales.csv')"
   ]
  },
  {
   "cell_type": "code",
   "execution_count": 105,
   "id": "50b060b0",
   "metadata": {},
   "outputs": [
    {
     "name": "stdout",
     "output_type": "stream",
     "text": [
      "        TV  Radio  Newspaper  Sales\n",
      "0    230.1   37.8       69.2   22.1\n",
      "1     44.5   39.3       45.1   10.4\n",
      "2     17.2   45.9       69.3   12.0\n",
      "3    151.5   41.3       58.5   16.5\n",
      "4    180.8   10.8       58.4   17.9\n",
      "..     ...    ...        ...    ...\n",
      "195   38.2    3.7       13.8    7.6\n",
      "196   94.2    4.9        8.1   14.0\n",
      "197  177.0    9.3        6.4   14.8\n",
      "198  283.6   42.0       66.2   25.5\n",
      "199  232.1    8.6        8.7   18.4\n",
      "\n",
      "[200 rows x 4 columns]\n"
     ]
    }
   ],
   "source": [
    "print(df)"
   ]
  },
  {
   "cell_type": "code",
   "execution_count": 106,
   "id": "7ec4913b",
   "metadata": {},
   "outputs": [
    {
     "name": "stdout",
     "output_type": "stream",
     "text": [
      "      TV  Radio  Newspaper  Sales\n",
      "0  230.1   37.8       69.2   22.1\n",
      "1   44.5   39.3       45.1   10.4\n",
      "2   17.2   45.9       69.3   12.0\n",
      "3  151.5   41.3       58.5   16.5\n",
      "4  180.8   10.8       58.4   17.9\n"
     ]
    }
   ],
   "source": [
    "# Print the first few rows of the DataFrame\n",
    "print(df.head())"
   ]
  },
  {
   "cell_type": "code",
   "execution_count": 107,
   "id": "2cfe7b5c",
   "metadata": {},
   "outputs": [
    {
     "name": "stdout",
     "output_type": "stream",
     "text": [
      "\n",
      "Summary Statistics:\n",
      "               TV       Radio   Newspaper       Sales\n",
      "count  200.000000  200.000000  200.000000  200.000000\n",
      "mean   147.042500   23.264000   30.554000   15.130500\n",
      "std     85.854236   14.846809   21.778621    5.283892\n",
      "min      0.700000    0.000000    0.300000    1.600000\n",
      "25%     74.375000    9.975000   12.750000   11.000000\n",
      "50%    149.750000   22.900000   25.750000   16.000000\n",
      "75%    218.825000   36.525000   45.100000   19.050000\n",
      "max    296.400000   49.600000  114.000000   27.000000\n"
     ]
    }
   ],
   "source": [
    "# - Check basic statistics\n",
    "summary_stats = df.describe()\n",
    "print(\"\\nSummary Statistics:\")\n",
    "print(summary_stats)\n"
   ]
  },
  {
   "cell_type": "markdown",
   "id": "63855101",
   "metadata": {},
   "source": [
    "# Data cleaning"
   ]
  },
  {
   "cell_type": "code",
   "execution_count": 108,
   "id": "49c09d05",
   "metadata": {},
   "outputs": [
    {
     "name": "stdout",
     "output_type": "stream",
     "text": [
      "Missing Values:\n",
      "TV           0\n",
      "Radio        0\n",
      "Newspaper    0\n",
      "Sales        0\n",
      "dtype: int64\n",
      "\n",
      "No missing values found. Data is available.\n"
     ]
    }
   ],
   "source": [
    "#checking wheather the data is available or not recorded.\n",
    "missing_values = df.isnull().sum()\n",
    "# Print the missing values (if any)\n",
    "print(\"Missing Values:\")\n",
    "print(missing_values)\n",
    "\n",
    "# You can also print a message based on the result\n",
    "if missing_values.sum() == 0:\n",
    "    print(\"\\nNo missing values found. Data is available.\")\n",
    "else:\n",
    "    print(\"\\nMissing values found. Data may be incomplete or recorded incorrectly.\")"
   ]
  },
  {
   "cell_type": "code",
   "execution_count": 109,
   "id": "3df26c2f",
   "metadata": {},
   "outputs": [
    {
     "name": "stdout",
     "output_type": "stream",
     "text": [
      "The values in the column 'TV' are within the reasonable range of (0,1000)\n",
      "The values in the column 'Radio' are within the reasonable range of (0,100)\n",
      "The values in the column 'Newspaper' are within the reasonable range of (0,200)\n",
      "The values in the column 'Sales' are within the reasonable range of (0,100)\n"
     ]
    }
   ],
   "source": [
    "#Define reasonable ranges for each variable\n",
    "reasonable_ranges = {\n",
    "    'TV': (0, 1000),    # Example: TV budget should be between 0 and 1000\n",
    "    'Radio': (0, 100),   # Example: Radio budget should be between 0 and 100\n",
    "    'Newspaper': (0, 200),  # Example: Newspaper budget should be between 0 and 200\n",
    "    'Sales': (0, 100)    # Example: Sales should be between 0 and 100\n",
    "}\n",
    "\n",
    "# Step 3: Perform range checks\n",
    "for column, (min_val, max_val) in reasonable_ranges.items():\n",
    "    if ((df[column] < min_val) | (df[column] > max_val)).any():\n",
    "        print(f\"Warning: Values in column '{column}' are not within the reasonable range of ({min_val}, {max_val}). Please verify the data.\")\n",
    "    else:\n",
    "        print(f\"The values in the column '{column}' are within the reasonable range of ({min_val},{max_val})\")"
   ]
  },
  {
   "cell_type": "code",
   "execution_count": 110,
   "id": "0080cf0a",
   "metadata": {},
   "outputs": [
    {
     "name": "stdout",
     "output_type": "stream",
     "text": [
      "The Data contains non negative sales values\n"
     ]
    }
   ],
   "source": [
    "#To check whether the data entered is correct or not.\n",
    "# Checking if sales values are non-negative\n",
    "if (df['Sales'] < 0).any():\n",
    "    print(\"Warning: There are negative sales values. Please verify the data.\")\n",
    "else:\n",
    "    print(\"The Data contains non negative sales values\")"
   ]
  },
  {
   "cell_type": "code",
   "execution_count": 76,
   "id": "5cbcbca9",
   "metadata": {},
   "outputs": [
    {
     "name": "stdout",
     "output_type": "stream",
     "text": [
      "No negative values found.\n"
     ]
    }
   ],
   "source": [
    "# Check for negative or unrealistic values\n",
    "if (df < 0).any().any():\n",
    "    print(f\"Warning: There are negative values in the dataset. Please verify the data.\")\n",
    "else:\n",
    "    print(\"No negative values found.\")"
   ]
  },
  {
   "cell_type": "code",
   "execution_count": 78,
   "id": "1e7faed4",
   "metadata": {},
   "outputs": [
    {
     "name": "stdout",
     "output_type": "stream",
     "text": [
      "The Data contains non negative advertising budget values\n"
     ]
    }
   ],
   "source": [
    "# Checking if advertising budgets are non-negative\n",
    "if (df[['TV', 'Radio', 'Newspaper']] < 0).any().any():\n",
    "    print(\"Warning: There are negative advertising budget values. Please verify the data.\")\n",
    "else:\n",
    "    print(\"The Data contains non negative advertising budget values\")"
   ]
  },
  {
   "cell_type": "code",
   "execution_count": 111,
   "id": "b9007663",
   "metadata": {},
   "outputs": [
    {
     "name": "stdout",
     "output_type": "stream",
     "text": [
      "DataFrame without Duplicates:\n",
      "        TV  Radio  Newspaper  Sales\n",
      "0    230.1   37.8       69.2   22.1\n",
      "1     44.5   39.3       45.1   10.4\n",
      "2     17.2   45.9       69.3   12.0\n",
      "3    151.5   41.3       58.5   16.5\n",
      "4    180.8   10.8       58.4   17.9\n",
      "..     ...    ...        ...    ...\n",
      "195   38.2    3.7       13.8    7.6\n",
      "196   94.2    4.9        8.1   14.0\n",
      "197  177.0    9.3        6.4   14.8\n",
      "198  283.6   42.0       66.2   25.5\n",
      "199  232.1    8.6        8.7   18.4\n",
      "\n",
      "[200 rows x 4 columns]\n"
     ]
    }
   ],
   "source": [
    "#to remove duplicate values\n",
    "df_dup = df.drop_duplicates()\n",
    "# Display the DataFrame without duplicates\n",
    "print(\"DataFrame without Duplicates:\")\n",
    "print(df_dup)"
   ]
  },
  {
   "cell_type": "code",
   "execution_count": 112,
   "id": "d5d34256",
   "metadata": {},
   "outputs": [],
   "source": [
    "#Check for outliers and decide whether to remove them or not.\n",
    "import numpy as np"
   ]
  },
  {
   "cell_type": "code",
   "execution_count": 113,
   "id": "be4353e1",
   "metadata": {},
   "outputs": [],
   "source": [
    "# Define a function to detect outliers using IQR method\n",
    "def detect_outliers(data):\n",
    "    Q1 = data.quantile(0.25)\n",
    "    Q3 = data.quantile(0.75)\n",
    "    IQR = Q3 - Q1\n",
    "    lower_bound = Q1 - 1.5 * IQR\n",
    "    upper_bound = Q3 + 1.5 * IQR\n",
    "    return (data < lower_bound) | (data > upper_bound)"
   ]
  },
  {
   "cell_type": "code",
   "execution_count": 115,
   "id": "f5c86ab5",
   "metadata": {},
   "outputs": [],
   "source": [
    "\n",
    "# Select the columns you want to check for outliers\n",
    "columns_to_check = ['TV', 'Radio', 'Newspaper', 'Sales']"
   ]
  },
  {
   "cell_type": "code",
   "execution_count": 83,
   "id": "9abb622b",
   "metadata": {},
   "outputs": [
    {
     "name": "stdout",
     "output_type": "stream",
     "text": [
      "        TV  Radio  Newspaper  Sales\n",
      "0    False  False      False  False\n",
      "1    False  False      False  False\n",
      "2    False  False      False  False\n",
      "3    False  False      False  False\n",
      "4    False  False      False  False\n",
      "..     ...    ...        ...    ...\n",
      "195  False  False      False  False\n",
      "196  False  False      False  False\n",
      "197  False  False      False  False\n",
      "198  False  False      False  False\n",
      "199  False  False      False  False\n",
      "\n",
      "[200 rows x 4 columns]\n"
     ]
    }
   ],
   "source": [
    "# Check for outliers in each column\n",
    "outliers = df[columns_to_check].apply(detect_outliers)\n",
    "print(outliers)"
   ]
  },
  {
   "cell_type": "code",
   "execution_count": 117,
   "id": "94930e39",
   "metadata": {},
   "outputs": [
    {
     "name": "stdout",
     "output_type": "stream",
     "text": [
      "Number of outliers:\n",
      "TV           0\n",
      "Radio        0\n",
      "Newspaper    2\n",
      "Sales        0\n",
      "dtype: int64\n"
     ]
    }
   ],
   "source": [
    "# Count the number of outliers in each column\n",
    "num_outliers = outliers.sum()\n",
    "# Display the number of outliers for each column\n",
    "print(\"Number of outliers:\")\n",
    "print(num_outliers)"
   ]
  },
  {
   "cell_type": "code",
   "execution_count": 118,
   "id": "df874e1d",
   "metadata": {},
   "outputs": [
    {
     "name": "stdout",
     "output_type": "stream",
     "text": [
      "\n",
      "Rows containing outliers:\n",
      "        TV  Radio  Newspaper  Sales\n",
      "16    67.8   36.6      114.0   12.5\n",
      "101  296.4   36.3      100.9   23.8\n"
     ]
    }
   ],
   "source": [
    "# Display the rows containing outliers\n",
    "outliers_rows = df[outliers.any(axis=1)]\n",
    "print(\"\\nRows containing outliers:\")\n",
    "print(outliers_rows)"
   ]
  },
  {
   "cell_type": "code",
   "execution_count": 119,
   "id": "7151c1d8",
   "metadata": {},
   "outputs": [
    {
     "name": "stdout",
     "output_type": "stream",
     "text": [
      "\n",
      "Outliers removed:\n",
      "        TV  Radio  Newspaper  Sales\n",
      "0    230.1   37.8       69.2   22.1\n",
      "1     44.5   39.3       45.1   10.4\n",
      "2     17.2   45.9       69.3   12.0\n",
      "3    151.5   41.3       58.5   16.5\n",
      "4    180.8   10.8       58.4   17.9\n",
      "..     ...    ...        ...    ...\n",
      "195   38.2    3.7       13.8    7.6\n",
      "196   94.2    4.9        8.1   14.0\n",
      "197  177.0    9.3        6.4   14.8\n",
      "198  283.6   42.0       66.2   25.5\n",
      "199  232.1    8.6        8.7   18.4\n",
      "\n",
      "[198 rows x 4 columns]\n"
     ]
    }
   ],
   "source": [
    "# To remove outliers, you can use something like this:\n",
    "df_cleaned = df[~outliers.any(axis=1)]\n",
    "print(\"\\nOutliers removed:\")\n",
    "print(df_cleaned)"
   ]
  },
  {
   "cell_type": "code",
   "execution_count": 120,
   "id": "09850335",
   "metadata": {},
   "outputs": [
    {
     "name": "stdout",
     "output_type": "stream",
     "text": [
      "0    22.1\n",
      "1    10.4\n",
      "2    12.0\n",
      "3    16.5\n",
      "4    17.9\n",
      "Name: Sales, dtype: float64\n"
     ]
    }
   ],
   "source": [
    "# Extracting the dependent variable 'Sales'\n",
    "y = df['Sales']\n",
    "# Printing the first few rows of 'Sales' to verify\n",
    "print(y.head())"
   ]
  },
  {
   "cell_type": "code",
   "execution_count": 121,
   "id": "2fc05dd4",
   "metadata": {},
   "outputs": [
    {
     "name": "stdout",
     "output_type": "stream",
     "text": [
      "Independent Variables:\n",
      "        TV  Radio  Newspaper\n",
      "0    230.1   37.8       69.2\n",
      "1     44.5   39.3       45.1\n",
      "2     17.2   45.9       69.3\n",
      "3    151.5   41.3       58.5\n",
      "4    180.8   10.8       58.4\n",
      "..     ...    ...        ...\n",
      "195   38.2    3.7       13.8\n",
      "196   94.2    4.9        8.1\n",
      "197  177.0    9.3        6.4\n",
      "198  283.6   42.0       66.2\n",
      "199  232.1    8.6        8.7\n",
      "\n",
      "[200 rows x 3 columns]\n"
     ]
    }
   ],
   "source": [
    "# Extracting the independent variables into a DataFrame\n",
    "independent_variables = df[['TV', 'Radio', 'Newspaper']]\n",
    "# Printing the extracted independent variables\n",
    "print(\"Independent Variables:\")\n",
    "print(independent_variables)"
   ]
  },
  {
   "cell_type": "code",
   "execution_count": 122,
   "id": "9af34293",
   "metadata": {},
   "outputs": [
    {
     "name": "stdout",
     "output_type": "stream",
     "text": [
      "DataFrame with Binning:\n",
      "        TV  Radio  Newspaper  Sales Sales_bin\n",
      "0    230.1   37.8       69.2   22.1     20-30\n",
      "1     44.5   39.3       45.1   10.4     10-20\n",
      "2     17.2   45.9       69.3   12.0     10-20\n",
      "3    151.5   41.3       58.5   16.5     10-20\n",
      "4    180.8   10.8       58.4   17.9     10-20\n",
      "..     ...    ...        ...    ...       ...\n",
      "195   38.2    3.7       13.8    7.6      0-10\n",
      "196   94.2    4.9        8.1   14.0     10-20\n",
      "197  177.0    9.3        6.4   14.8     10-20\n",
      "198  283.6   42.0       66.2   25.5     20-30\n",
      "199  232.1    8.6        8.7   18.4     10-20\n",
      "\n",
      "[200 rows x 5 columns]\n"
     ]
    }
   ],
   "source": [
    "#Bining the data\n",
    "# Adjust the bin_edges and bin_labels as per your specific requirements\n",
    "bin_edges = [0, 10, 20, 30, 40, 50, 60, 70, 80, 90, 100]\n",
    "bin_labels = ['0-10', '10-20', '20-30', '30-40', '40-50', '50-60', '60-70', '70-80', '80-90', '90-100']\n",
    "\n",
    "# Step 3: Apply binning to a specific column (e.g., 'Sales')\n",
    "df['Sales_bin'] = pd.cut(df['Sales'], bins=bin_edges, labels=bin_labels, include_lowest=True)\n",
    "\n",
    "# You can choose a different column \n",
    "#or adjust bin_edges and bin_labels based on your specific requirements.\n",
    "\n",
    "# Display the DataFrame with the new binning column\n",
    "print(\"DataFrame with Binning:\")\n",
    "print(df)"
   ]
  },
  {
   "cell_type": "code",
   "execution_count": 124,
   "id": "db379163",
   "metadata": {},
   "outputs": [
    {
     "name": "stdout",
     "output_type": "stream",
     "text": [
      "                 TV     Radio  Newspaper     Sales\n",
      "TV         1.000000  0.054809   0.056648  0.901208\n",
      "Radio      0.054809  1.000000   0.354104  0.349631\n",
      "Newspaper  0.056648  0.354104   1.000000  0.157960\n",
      "Sales      0.901208  0.349631   0.157960  1.000000\n"
     ]
    }
   ],
   "source": [
    "# Correlation matrix\n",
    "correlation_matrix = df.corr()\n",
    "print(correlation_matrix)"
   ]
  },
  {
   "cell_type": "code",
   "execution_count": 125,
   "id": "332d2181",
   "metadata": {},
   "outputs": [
    {
     "name": "stdout",
     "output_type": "stream",
     "text": [
      "Cleaned and Preprocessed DataFrame:\n",
      "           TV     Radio  Newspaper  Sales\n",
      "0    0.978697  0.989521   1.932998   22.1\n",
      "1   -1.199012  1.090705   0.751313   10.4\n",
      "2   -1.519332  1.535913   1.937901   12.0\n",
      "3    0.056456  1.225616   1.408349   16.5\n",
      "4    0.400243 -0.831784   1.403446   17.9\n",
      "..        ...       ...        ...    ...\n",
      "195 -1.272932 -1.310720  -0.783407    7.6\n",
      "196 -0.615864 -1.229773  -1.062892   14.0\n",
      "197  0.355657 -0.932968  -1.146248   14.8\n",
      "198  1.606431  1.272836   1.785900   25.5\n",
      "199  1.002164 -0.980187  -1.033473   18.4\n",
      "\n",
      "[198 rows x 4 columns]\n"
     ]
    },
    {
     "name": "stderr",
     "output_type": "stream",
     "text": [
      "C:\\Users\\S.BALAKRISHNAN\\anaconda3\\lib\\site-packages\\pandas\\core\\frame.py:3678: SettingWithCopyWarning: \n",
      "A value is trying to be set on a copy of a slice from a DataFrame.\n",
      "Try using .loc[row_indexer,col_indexer] = value instead\n",
      "\n",
      "See the caveats in the documentation: https://pandas.pydata.org/pandas-docs/stable/user_guide/indexing.html#returning-a-view-versus-a-copy\n",
      "  self[col] = igetitem(value, i)\n"
     ]
    }
   ],
   "source": [
    "from sklearn.preprocessing import StandardScaler\n",
    "scaler = StandardScaler()\n",
    "numerical_features = ['TV', 'Radio', 'Newspaper']\n",
    "df_cleaned[numerical_features] = scaler.fit_transform(df_cleaned[numerical_features])\n",
    "print(\"Cleaned and Preprocessed DataFrame:\")\n",
    "print(df_cleaned)"
   ]
  },
  {
   "cell_type": "code",
   "execution_count": 91,
   "id": "9d4f7833",
   "metadata": {},
   "outputs": [
    {
     "data": {
      "image/png": "[encoded data removed]",
      "text/plain": [
       "<Figure size 432x288 with 1 Axes>"
      ]
     },
     "metadata": {
      "needs_background": "light"
     },
     "output_type": "display_data"
    },
    {
     "name": "stdout",
     "output_type": "stream",
     "text": [
      "DataFrame with Clusters:\n",
      "        TV  Radio  Newspaper  Sales Sales_bin  Cluster\n",
      "0    230.1   37.8       69.2   22.1     20-30        2\n",
      "1     44.5   39.3       45.1   10.4     10-20        1\n",
      "2     17.2   45.9       69.3   12.0     10-20        1\n",
      "3    151.5   41.3       58.5   16.5     10-20        0\n",
      "4    180.8   10.8       58.4   17.9     10-20        0\n",
      "..     ...    ...        ...    ...       ...      ...\n",
      "195   38.2    3.7       13.8    7.6      0-10        1\n",
      "196   94.2    4.9        8.1   14.0     10-20        0\n",
      "197  177.0    9.3        6.4   14.8     10-20        0\n",
      "198  283.6   42.0       66.2   25.5     20-30        2\n",
      "199  232.1    8.6        8.7   18.4     10-20        2\n",
      "\n",
      "[200 rows x 6 columns]\n"
     ]
    }
   ],
   "source": [
    "from sklearn.cluster import KMeans\n",
    "import matplotlib.pyplot as plt\n",
    "\n",
    "# Assuming your data is stored in a DataFrame called df\n",
    "# Replace df with the actual name of your DataFrame if different\n",
    "\n",
    "# Step 1: Load the dataset (if not already loaded)\n",
    "# df = pd.read_csv('your_dataset.csv')  # Replace with the actual path if data is in a CSV file\n",
    "\n",
    "# Step 2: Select the features for clustering (e.g., 'TV', 'Radio', 'Newspaper')\n",
    "features = df[['TV', 'Radio', 'Newspaper']]\n",
    "\n",
    "# Step 3: Choose the number of clusters (k)\n",
    "k = 3  # Adjust based on your specific analysis\n",
    "\n",
    "# Step 4: Perform K-Means clustering\n",
    "kmeans = KMeans(n_clusters=k, random_state=0)\n",
    "df['Cluster'] = kmeans.fit_predict(features)\n",
    "\n",
    "# Step 5: Visualize the clusters (for 2D visualization)\n",
    "plt.scatter(df['TV'], df['Radio'], c=df['Cluster'], cmap='viridis')\n",
    "plt.xlabel('TV')\n",
    "plt.ylabel('Radio')\n",
    "plt.title('K-Means Clustering')\n",
    "plt.show()\n",
    "\n",
    "# The above visualization assumes 'TV' and 'Radio' as features. You can adjust based on your specific features.\n",
    "\n",
    "# Step 6: Optional - Perform further analysis on the clusters\n",
    "# You can analyze the clusters further to understand their characteristics.\n",
    "\n",
    "# Display the DataFrame with cluster assignments\n",
    "print(\"DataFrame with Clusters:\")\n",
    "print(df)\n"
   ]
  },
  {
   "cell_type": "code",
   "execution_count": null,
   "id": "85b7937e",
   "metadata": {},
   "outputs": [],
   "source": []
  },
  {
   "cell_type": "code",
   "execution_count": null,
   "id": "1d3f76af",
   "metadata": {},
   "outputs": [],
   "source": []
  },
  {
   "cell_type": "code",
   "execution_count": null,
   "id": "377ab5c9",
   "metadata": {},
   "outputs": [],
   "source": []
  },
  {
   "cell_type": "code",
   "execution_count": null,
   "id": "1d328cb5",
   "metadata": {},
   "outputs": [],
   "source": []
  },
  {
   "cell_type": "code",
   "execution_count": null,
   "id": "f54c63ba",
   "metadata": {},
   "outputs": [],
   "source": []
  },
  {
   "cell_type": "code",
   "execution_count": null,
   "id": "a580dc39",
   "metadata": {},
   "outputs": [],
   "source": []
  },
  {
   "cell_type": "code",
   "execution_count": null,
   "id": "b37aef4d",
   "metadata": {},
   "outputs": [],
   "source": []
  },
  {
   "cell_type": "code",
   "execution_count": null,
   "id": "62699b3c",
   "metadata": {},
   "outputs": [],
   "source": []
  }
 ],
 "metadata": {
  "kernelspec": {
   "display_name": "Python 3 (ipykernel)",
   "language": "python",
   "name": "python3"
  },
  "language_info": {
   "codemirror_mode": {
    "name": "ipython",
    "version": 3
   },
   "file_extension": ".py",
   "mimetype": "text/x-python",
   "name": "python",
   "nbconvert_exporter": "python",
   "pygments_lexer": "ipython3",
   "version": "3.9.7"
  }
 },
 "nbformat": 4,
 "nbformat_minor": 5
}
